{
 "cells": [
  {
   "cell_type": "markdown",
   "metadata": {},
   "source": [
    "# Assignment 1\n"
   ]
  },
  {
   "cell_type": "code",
   "execution_count": null,
   "metadata": {},
   "outputs": [],
   "source": [
    "i = int( input(\"Enter the Aircraft altitude\"))\n",
    "\n",
    "if i <= 1000:\n",
    "    print(\"Proceed to land your aircraft\")\n",
    "elif i > 1000 and i <= 4500:\n",
    "    print(\"Bring down your aircraft to 1000ft\")\n",
    "elif i > 4500 and i <= 6500:\n",
    "    print (\"Please turn around!\")\n"
   ]
  },
  {
   "cell_type": "markdown",
   "metadata": {},
   "source": [
    "# Assignment 2"
   ]
  },
  {
   "cell_type": "code",
   "execution_count": null,
   "metadata": {},
   "outputs": [],
   "source": [
    "for i in range(1,201):\n",
    "    if i < 1:\n",
    "        print(i,\"is not a prime number\")\n",
    "    else:\n",
    "        for j in range(2,i):\n",
    "            if (i % j) == 0:\n",
    "                print (i, \"is a prime number\")\n",
    "            else:\n",
    "                print (i,\"is not a prime number\")\n",
    "    \n",
    "        "
   ]
  },
  {
   "cell_type": "code",
   "execution_count": null,
   "metadata": {},
   "outputs": [],
   "source": []
  }
 ],
 "metadata": {
  "kernelspec": {
   "display_name": "Python 3",
   "language": "python",
   "name": "python3"
  },
  "language_info": {
   "codemirror_mode": {
    "name": "ipython",
    "version": 3
   },
   "file_extension": ".py",
   "mimetype": "text/x-python",
   "name": "python",
   "nbconvert_exporter": "python",
   "pygments_lexer": "ipython3",
   "version": "3.8.3"
  }
 },
 "nbformat": 4,
 "nbformat_minor": 4
}
